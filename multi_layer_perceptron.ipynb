{
  "nbformat": 4,
  "nbformat_minor": 0,
  "metadata": {
    "colab": {
      "provenance": [],
      "gpuType": "T4",
      "authorship_tag": "ABX9TyPQPWyZfAVACv1LGbtDwZjt",
      "include_colab_link": true
    },
    "kernelspec": {
      "name": "python3",
      "display_name": "Python 3"
    },
    "language_info": {
      "name": "python"
    }
  },
  "cells": [
    {
      "cell_type": "markdown",
      "metadata": {
        "id": "view-in-github",
        "colab_type": "text"
      },
      "source": [
        "<a href=\"https://colab.research.google.com/github/theAlbinaM/singleLayerPerceptronGD/blob/main/multi_layer_perceptron.ipynb\" target=\"_parent\"><img src=\"https://colab.research.google.com/assets/colab-badge.svg\" alt=\"Open In Colab\"/></a>"
      ]
    },
    {
      "cell_type": "code",
      "source": [
        "from tensorflow.keras.datasets import mnist\n",
        "from tensorflow.keras.models import Sequential\n",
        "from tensorflow.keras.layers import Dense\n",
        "from tensorflow.keras.utils import to_categorical\n",
        "\n",
        "# Загружаем данные\n",
        "(x_train, y_train), (x_test, y_test) = mnist.load_data()\n",
        "x_train = x_train.reshape(x_train.shape[0], -1) / 255.0\n",
        "x_test = x_test.reshape(x_test.shape[0], -1) / 255.0\n",
        "y_train = to_categorical(y_train)\n",
        "y_test = to_categorical(y_test)\n",
        "\n",
        "# Опишем архитектуру сети\n",
        "model = Sequential()\n",
        "model.add(Dense(10, input_dim=784, activation='relu'))\n",
        "model.add(Dense(10, activation='softmax'))\n",
        "model.compile(loss='categorical_crossentropy', optimizer='adam', metrics=['accuracy'])\n",
        "\n",
        "# Начнем обучение\n",
        "model.fit(x_train, y_train, epochs=10, validation_split=0.1)\n",
        "\n",
        "_, test_acc = model.evaluate(x_test, y_test)\n",
        "print(test_acc)"
      ],
      "metadata": {
        "colab": {
          "base_uri": "https://localhost:8080/"
        },
        "id": "AQb6-SZQIKgN",
        "outputId": "9c875177-ffaf-442b-9a85-072e05c57086"
      },
      "execution_count": 37,
      "outputs": [
        {
          "output_type": "stream",
          "name": "stderr",
          "text": [
            "/usr/local/lib/python3.11/dist-packages/keras/src/layers/core/dense.py:87: UserWarning: Do not pass an `input_shape`/`input_dim` argument to a layer. When using Sequential models, prefer using an `Input(shape)` object as the first layer in the model instead.\n",
            "  super().__init__(activity_regularizer=activity_regularizer, **kwargs)\n"
          ]
        },
        {
          "output_type": "stream",
          "name": "stdout",
          "text": [
            "Epoch 1/10\n",
            "\u001b[1m1688/1688\u001b[0m \u001b[32m━━━━━━━━━━━━━━━━━━━━\u001b[0m\u001b[37m\u001b[0m \u001b[1m5s\u001b[0m 3ms/step - accuracy: 0.7592 - loss: 0.8585 - val_accuracy: 0.9177 - val_loss: 0.2900\n",
            "Epoch 2/10\n",
            "\u001b[1m1688/1688\u001b[0m \u001b[32m━━━━━━━━━━━━━━━━━━━━\u001b[0m\u001b[37m\u001b[0m \u001b[1m3s\u001b[0m 2ms/step - accuracy: 0.9052 - loss: 0.3373 - val_accuracy: 0.9228 - val_loss: 0.2688\n",
            "Epoch 3/10\n",
            "\u001b[1m1688/1688\u001b[0m \u001b[32m━━━━━━━━━━━━━━━━━━━━\u001b[0m\u001b[37m\u001b[0m \u001b[1m5s\u001b[0m 2ms/step - accuracy: 0.9161 - loss: 0.3030 - val_accuracy: 0.9333 - val_loss: 0.2372\n",
            "Epoch 4/10\n",
            "\u001b[1m1688/1688\u001b[0m \u001b[32m━━━━━━━━━━━━━━━━━━━━\u001b[0m\u001b[37m\u001b[0m \u001b[1m5s\u001b[0m 2ms/step - accuracy: 0.9212 - loss: 0.2832 - val_accuracy: 0.9340 - val_loss: 0.2311\n",
            "Epoch 5/10\n",
            "\u001b[1m1688/1688\u001b[0m \u001b[32m━━━━━━━━━━━━━━━━━━━━\u001b[0m\u001b[37m\u001b[0m \u001b[1m3s\u001b[0m 2ms/step - accuracy: 0.9265 - loss: 0.2648 - val_accuracy: 0.9378 - val_loss: 0.2236\n",
            "Epoch 6/10\n",
            "\u001b[1m1688/1688\u001b[0m \u001b[32m━━━━━━━━━━━━━━━━━━━━\u001b[0m\u001b[37m\u001b[0m \u001b[1m6s\u001b[0m 2ms/step - accuracy: 0.9262 - loss: 0.2648 - val_accuracy: 0.9398 - val_loss: 0.2153\n",
            "Epoch 7/10\n",
            "\u001b[1m1688/1688\u001b[0m \u001b[32m━━━━━━━━━━━━━━━━━━━━\u001b[0m\u001b[37m\u001b[0m \u001b[1m4s\u001b[0m 2ms/step - accuracy: 0.9282 - loss: 0.2543 - val_accuracy: 0.9393 - val_loss: 0.2193\n",
            "Epoch 8/10\n",
            "\u001b[1m1688/1688\u001b[0m \u001b[32m━━━━━━━━━━━━━━━━━━━━\u001b[0m\u001b[37m\u001b[0m \u001b[1m5s\u001b[0m 2ms/step - accuracy: 0.9311 - loss: 0.2453 - val_accuracy: 0.9375 - val_loss: 0.2277\n",
            "Epoch 9/10\n",
            "\u001b[1m1688/1688\u001b[0m \u001b[32m━━━━━━━━━━━━━━━━━━━━\u001b[0m\u001b[37m\u001b[0m \u001b[1m5s\u001b[0m 2ms/step - accuracy: 0.9326 - loss: 0.2411 - val_accuracy: 0.9395 - val_loss: 0.2167\n",
            "Epoch 10/10\n",
            "\u001b[1m1688/1688\u001b[0m \u001b[32m━━━━━━━━━━━━━━━━━━━━\u001b[0m\u001b[37m\u001b[0m \u001b[1m5s\u001b[0m 2ms/step - accuracy: 0.9322 - loss: 0.2339 - val_accuracy: 0.9437 - val_loss: 0.2130\n",
            "\u001b[1m313/313\u001b[0m \u001b[32m━━━━━━━━━━━━━━━━━━━━\u001b[0m\u001b[37m\u001b[0m \u001b[1m0s\u001b[0m 1ms/step - accuracy: 0.9189 - loss: 0.2782\n",
            "0.9311000108718872\n"
          ]
        }
      ]
    },
    {
      "cell_type": "code",
      "source": [
        "# Опишем архитектуру сети 2\n",
        "model2 = Sequential()\n",
        "model2.add(Dense( 50, input_dim=784, activation='relu'))\n",
        "model2.add(Dense(10, activation='softmax'))\n",
        "model2.compile(loss='categorical_crossentropy', optimizer='adam', metrics=['accuracy'])\n",
        "model2.fit(x_train, y_train, epochs=10, validation_split=0.1)\n",
        "\n",
        "_, test_acc = model2.evaluate(x_test, y_test)\n",
        "print(test_acc)"
      ],
      "metadata": {
        "colab": {
          "base_uri": "https://localhost:8080/"
        },
        "id": "mCZcJItdIK_o",
        "outputId": "0099b1e9-19a0-44d2-d387-f76407aed582"
      },
      "execution_count": 38,
      "outputs": [
        {
          "output_type": "stream",
          "name": "stdout",
          "text": [
            "Epoch 1/10\n",
            "\u001b[1m1688/1688\u001b[0m \u001b[32m━━━━━━━━━━━━━━━━━━━━\u001b[0m\u001b[37m\u001b[0m \u001b[1m5s\u001b[0m 2ms/step - accuracy: 0.8374 - loss: 0.5799 - val_accuracy: 0.9568 - val_loss: 0.1602\n",
            "Epoch 2/10\n",
            "\u001b[1m1688/1688\u001b[0m \u001b[32m━━━━━━━━━━━━━━━━━━━━\u001b[0m\u001b[37m\u001b[0m \u001b[1m6s\u001b[0m 3ms/step - accuracy: 0.9484 - loss: 0.1772 - val_accuracy: 0.9657 - val_loss: 0.1274\n",
            "Epoch 3/10\n",
            "\u001b[1m1688/1688\u001b[0m \u001b[32m━━━━━━━━━━━━━━━━━━━━\u001b[0m\u001b[37m\u001b[0m \u001b[1m4s\u001b[0m 2ms/step - accuracy: 0.9631 - loss: 0.1271 - val_accuracy: 0.9678 - val_loss: 0.1088\n",
            "Epoch 4/10\n",
            "\u001b[1m1688/1688\u001b[0m \u001b[32m━━━━━━━━━━━━━━━━━━━━\u001b[0m\u001b[37m\u001b[0m \u001b[1m5s\u001b[0m 2ms/step - accuracy: 0.9705 - loss: 0.0997 - val_accuracy: 0.9720 - val_loss: 0.0970\n",
            "Epoch 5/10\n",
            "\u001b[1m1688/1688\u001b[0m \u001b[32m━━━━━━━━━━━━━━━━━━━━\u001b[0m\u001b[37m\u001b[0m \u001b[1m4s\u001b[0m 2ms/step - accuracy: 0.9757 - loss: 0.0818 - val_accuracy: 0.9723 - val_loss: 0.0952\n",
            "Epoch 6/10\n",
            "\u001b[1m1688/1688\u001b[0m \u001b[32m━━━━━━━━━━━━━━━━━━━━\u001b[0m\u001b[37m\u001b[0m \u001b[1m4s\u001b[0m 2ms/step - accuracy: 0.9805 - loss: 0.0671 - val_accuracy: 0.9727 - val_loss: 0.0939\n",
            "Epoch 7/10\n",
            "\u001b[1m1688/1688\u001b[0m \u001b[32m━━━━━━━━━━━━━━━━━━━━\u001b[0m\u001b[37m\u001b[0m \u001b[1m4s\u001b[0m 2ms/step - accuracy: 0.9817 - loss: 0.0583 - val_accuracy: 0.9758 - val_loss: 0.0900\n",
            "Epoch 8/10\n",
            "\u001b[1m1688/1688\u001b[0m \u001b[32m━━━━━━━━━━━━━━━━━━━━\u001b[0m\u001b[37m\u001b[0m \u001b[1m5s\u001b[0m 2ms/step - accuracy: 0.9860 - loss: 0.0477 - val_accuracy: 0.9753 - val_loss: 0.0891\n",
            "Epoch 9/10\n",
            "\u001b[1m1688/1688\u001b[0m \u001b[32m━━━━━━━━━━━━━━━━━━━━\u001b[0m\u001b[37m\u001b[0m \u001b[1m4s\u001b[0m 2ms/step - accuracy: 0.9854 - loss: 0.0441 - val_accuracy: 0.9748 - val_loss: 0.0966\n",
            "Epoch 10/10\n",
            "\u001b[1m1688/1688\u001b[0m \u001b[32m━━━━━━━━━━━━━━━━━━━━\u001b[0m\u001b[37m\u001b[0m \u001b[1m4s\u001b[0m 2ms/step - accuracy: 0.9872 - loss: 0.0406 - val_accuracy: 0.9752 - val_loss: 0.0959\n",
            "\u001b[1m313/313\u001b[0m \u001b[32m━━━━━━━━━━━━━━━━━━━━\u001b[0m\u001b[37m\u001b[0m \u001b[1m1s\u001b[0m 2ms/step - accuracy: 0.9654 - loss: 0.1099\n",
            "0.9696999788284302\n"
          ]
        }
      ]
    },
    {
      "cell_type": "code",
      "source": [
        "# Опишем архитектуру сети 3\n",
        "model3 = Sequential()\n",
        "model3.add(Dense(50, input_dim=784, activation='relu'))\n",
        "model3.add(Dense(50, activation='relu'))\n",
        "model3.add(Dense(10, activation='softmax'))\n",
        "model3.compile(loss='categorical_crossentropy', optimizer='adam', metrics=['accuracy'])\n",
        "model3.fit(x_train, y_train, epochs=10, validation_split=0.1)\n",
        "\n",
        "_, test_acc = model3.evaluate(x_test, y_test)\n",
        "print(test_acc)"
      ],
      "metadata": {
        "colab": {
          "base_uri": "https://localhost:8080/"
        },
        "id": "LpU_WSfiILU5",
        "outputId": "59831d65-2195-4602-fdc4-ec570a866b2b"
      },
      "execution_count": 40,
      "outputs": [
        {
          "output_type": "stream",
          "name": "stderr",
          "text": [
            "/usr/local/lib/python3.11/dist-packages/keras/src/layers/core/dense.py:87: UserWarning: Do not pass an `input_shape`/`input_dim` argument to a layer. When using Sequential models, prefer using an `Input(shape)` object as the first layer in the model instead.\n",
            "  super().__init__(activity_regularizer=activity_regularizer, **kwargs)\n"
          ]
        },
        {
          "output_type": "stream",
          "name": "stdout",
          "text": [
            "Epoch 1/10\n",
            "\u001b[1m1688/1688\u001b[0m \u001b[32m━━━━━━━━━━━━━━━━━━━━\u001b[0m\u001b[37m\u001b[0m \u001b[1m6s\u001b[0m 3ms/step - accuracy: 0.8403 - loss: 0.5358 - val_accuracy: 0.9627 - val_loss: 0.1340\n",
            "Epoch 2/10\n",
            "\u001b[1m1688/1688\u001b[0m \u001b[32m━━━━━━━━━━━━━━━━━━━━\u001b[0m\u001b[37m\u001b[0m \u001b[1m4s\u001b[0m 2ms/step - accuracy: 0.9563 - loss: 0.1488 - val_accuracy: 0.9700 - val_loss: 0.1100\n",
            "Epoch 3/10\n",
            "\u001b[1m1688/1688\u001b[0m \u001b[32m━━━━━━━━━━━━━━━━━━━━\u001b[0m\u001b[37m\u001b[0m \u001b[1m4s\u001b[0m 2ms/step - accuracy: 0.9682 - loss: 0.1015 - val_accuracy: 0.9703 - val_loss: 0.0950\n",
            "Epoch 4/10\n",
            "\u001b[1m1688/1688\u001b[0m \u001b[32m━━━━━━━━━━━━━━━━━━━━\u001b[0m\u001b[37m\u001b[0m \u001b[1m5s\u001b[0m 2ms/step - accuracy: 0.9750 - loss: 0.0794 - val_accuracy: 0.9697 - val_loss: 0.0999\n",
            "Epoch 5/10\n",
            "\u001b[1m1688/1688\u001b[0m \u001b[32m━━━━━━━━━━━━━━━━━━━━\u001b[0m\u001b[37m\u001b[0m \u001b[1m5s\u001b[0m 2ms/step - accuracy: 0.9799 - loss: 0.0669 - val_accuracy: 0.9743 - val_loss: 0.0850\n",
            "Epoch 6/10\n",
            "\u001b[1m1688/1688\u001b[0m \u001b[32m━━━━━━━━━━━━━━━━━━━━\u001b[0m\u001b[37m\u001b[0m \u001b[1m5s\u001b[0m 3ms/step - accuracy: 0.9829 - loss: 0.0550 - val_accuracy: 0.9720 - val_loss: 0.0978\n",
            "Epoch 7/10\n",
            "\u001b[1m1688/1688\u001b[0m \u001b[32m━━━━━━━━━━━━━━━━━━━━\u001b[0m\u001b[37m\u001b[0m \u001b[1m4s\u001b[0m 2ms/step - accuracy: 0.9851 - loss: 0.0474 - val_accuracy: 0.9757 - val_loss: 0.0829\n",
            "Epoch 8/10\n",
            "\u001b[1m1688/1688\u001b[0m \u001b[32m━━━━━━━━━━━━━━━━━━━━\u001b[0m\u001b[37m\u001b[0m \u001b[1m4s\u001b[0m 2ms/step - accuracy: 0.9863 - loss: 0.0440 - val_accuracy: 0.9760 - val_loss: 0.0826\n",
            "Epoch 9/10\n",
            "\u001b[1m1688/1688\u001b[0m \u001b[32m━━━━━━━━━━━━━━━━━━━━\u001b[0m\u001b[37m\u001b[0m \u001b[1m6s\u001b[0m 3ms/step - accuracy: 0.9884 - loss: 0.0363 - val_accuracy: 0.9735 - val_loss: 0.1079\n",
            "Epoch 10/10\n",
            "\u001b[1m1688/1688\u001b[0m \u001b[32m━━━━━━━━━━━━━━━━━━━━\u001b[0m\u001b[37m\u001b[0m \u001b[1m4s\u001b[0m 2ms/step - accuracy: 0.9898 - loss: 0.0313 - val_accuracy: 0.9723 - val_loss: 0.1042\n",
            "\u001b[1m313/313\u001b[0m \u001b[32m━━━━━━━━━━━━━━━━━━━━\u001b[0m\u001b[37m\u001b[0m \u001b[1m1s\u001b[0m 2ms/step - accuracy: 0.9645 - loss: 0.1284\n",
            "0.9697999954223633\n"
          ]
        }
      ]
    },
    {
      "cell_type": "code",
      "source": [
        "from tensorflow.keras.layers import Conv2D, MaxPooling2D, Flatten\n",
        "import numpy as np\n",
        "\n",
        "# Загружаем данные\n",
        "(x_train_cnn, y_train_cnn), (x_test_cnn, y_test_cnn) = mnist.load_data()\n",
        "x_train_cnn = x_train_cnn[:,:,:,np.newaxis] / 255.0\n",
        "x_test_cnn = x_test_cnn[:,:,:,np.newaxis] / 255.0\n",
        "y_train_cnn = to_categorical(y_train_cnn)\n",
        "y_test_cnn = to_categorical(y_test_cnn)\n",
        "\n",
        "# Опишем архитектуру сети 4\n",
        "model4 = Sequential()\n",
        "model4.add(Conv2D(filters=64, kernel_size=2, padding='same', activation='relu', input_shape=(28,28, 1)))\n",
        "model4.add(MaxPooling2D(pool_size=2))\n",
        "model4.add(Flatten())\n",
        "model4.add(Dense(10, activation='softmax'))\n",
        "model4.compile(loss='categorical_crossentropy', optimizer='adam', metrics=['accuracy'])\n",
        "model4.fit(x_train_cnn, y_train_cnn, epochs=10, validation_split=0.1)\n",
        "\n",
        "_, test_acc = model4.evaluate(x_test_cnn, y_test_cnn)\n",
        "print(test_acc)"
      ],
      "metadata": {
        "id": "pXjqHUA9I9E-",
        "colab": {
          "base_uri": "https://localhost:8080/"
        },
        "outputId": "8dc93411-de95-49a0-bf32-36e796bcfe22"
      },
      "execution_count": 41,
      "outputs": [
        {
          "output_type": "stream",
          "name": "stderr",
          "text": [
            "/usr/local/lib/python3.11/dist-packages/keras/src/layers/convolutional/base_conv.py:107: UserWarning: Do not pass an `input_shape`/`input_dim` argument to a layer. When using Sequential models, prefer using an `Input(shape)` object as the first layer in the model instead.\n",
            "  super().__init__(activity_regularizer=activity_regularizer, **kwargs)\n"
          ]
        },
        {
          "output_type": "stream",
          "name": "stdout",
          "text": [
            "Epoch 1/10\n",
            "\u001b[1m1688/1688\u001b[0m \u001b[32m━━━━━━━━━━━━━━━━━━━━\u001b[0m\u001b[37m\u001b[0m \u001b[1m37s\u001b[0m 22ms/step - accuracy: 0.8766 - loss: 0.4298 - val_accuracy: 0.9785 - val_loss: 0.0848\n",
            "Epoch 2/10\n",
            "\u001b[1m1688/1688\u001b[0m \u001b[32m━━━━━━━━━━━━━━━━━━━━\u001b[0m\u001b[37m\u001b[0m \u001b[1m39s\u001b[0m 20ms/step - accuracy: 0.9734 - loss: 0.0958 - val_accuracy: 0.9803 - val_loss: 0.0697\n",
            "Epoch 3/10\n",
            "\u001b[1m1688/1688\u001b[0m \u001b[32m━━━━━━━━━━━━━━━━━━━━\u001b[0m\u001b[37m\u001b[0m \u001b[1m46s\u001b[0m 24ms/step - accuracy: 0.9813 - loss: 0.0652 - val_accuracy: 0.9843 - val_loss: 0.0609\n",
            "Epoch 4/10\n",
            "\u001b[1m1688/1688\u001b[0m \u001b[32m━━━━━━━━━━━━━━━━━━━━\u001b[0m\u001b[37m\u001b[0m \u001b[1m35s\u001b[0m 21ms/step - accuracy: 0.9839 - loss: 0.0534 - val_accuracy: 0.9827 - val_loss: 0.0624\n",
            "Epoch 5/10\n",
            "\u001b[1m1688/1688\u001b[0m \u001b[32m━━━━━━━━━━━━━━━━━━━━\u001b[0m\u001b[37m\u001b[0m \u001b[1m42s\u001b[0m 21ms/step - accuracy: 0.9862 - loss: 0.0459 - val_accuracy: 0.9825 - val_loss: 0.0619\n",
            "Epoch 6/10\n",
            "\u001b[1m1688/1688\u001b[0m \u001b[32m━━━━━━━━━━━━━━━━━━━━\u001b[0m\u001b[37m\u001b[0m \u001b[1m40s\u001b[0m 20ms/step - accuracy: 0.9886 - loss: 0.0409 - val_accuracy: 0.9842 - val_loss: 0.0605\n",
            "Epoch 7/10\n",
            "\u001b[1m1688/1688\u001b[0m \u001b[32m━━━━━━━━━━━━━━━━━━━━\u001b[0m\u001b[37m\u001b[0m \u001b[1m35s\u001b[0m 21ms/step - accuracy: 0.9890 - loss: 0.0366 - val_accuracy: 0.9843 - val_loss: 0.0623\n",
            "Epoch 8/10\n",
            "\u001b[1m1688/1688\u001b[0m \u001b[32m━━━━━━━━━━━━━━━━━━━━\u001b[0m\u001b[37m\u001b[0m \u001b[1m42s\u001b[0m 21ms/step - accuracy: 0.9907 - loss: 0.0318 - val_accuracy: 0.9830 - val_loss: 0.0635\n",
            "Epoch 9/10\n",
            "\u001b[1m1688/1688\u001b[0m \u001b[32m━━━━━━━━━━━━━━━━━━━━\u001b[0m\u001b[37m\u001b[0m \u001b[1m35s\u001b[0m 21ms/step - accuracy: 0.9922 - loss: 0.0261 - val_accuracy: 0.9847 - val_loss: 0.0659\n",
            "Epoch 10/10\n",
            "\u001b[1m1688/1688\u001b[0m \u001b[32m━━━━━━━━━━━━━━━━━━━━\u001b[0m\u001b[37m\u001b[0m \u001b[1m36s\u001b[0m 21ms/step - accuracy: 0.9936 - loss: 0.0209 - val_accuracy: 0.9815 - val_loss: 0.0704\n",
            "\u001b[1m313/313\u001b[0m \u001b[32m━━━━━━━━━━━━━━━━━━━━\u001b[0m\u001b[37m\u001b[0m \u001b[1m2s\u001b[0m 6ms/step - accuracy: 0.9763 - loss: 0.0853\n",
            "0.9799000024795532\n"
          ]
        }
      ]
    },
    {
      "cell_type": "code",
      "source": [
        "# Проведите сравнение работы четырех архитектур.\n",
        "# Какая из архитектур показывает лучший результат и почему?\n",
        "# Лучший результат у CNN (4 модель), так как она может «видеть» подмножество данных.\n",
        "# С помощью нее можно обнаружить образ на изображениях лучше, чем при работе с персептроном.\n",
        "\n",
        "# Как можно улучшить результаты каждой из архитектур?\n",
        "# Добавить дополнительные слои, подобрать оптимальные параметры и гиперпараметры обучения."
      ],
      "metadata": {
        "id": "9gZcjGYnI9mF"
      },
      "execution_count": null,
      "outputs": []
    },
    {
      "cell_type": "code",
      "source": [
        "# По вариантам (в соответствии с номером в списке) спроектируйте архитектуру,\n",
        "# реализуйте алгоритм корректировки синаптических весов с помощью алгоритма обратного распространения ошибки,\n",
        "# используя в качестве функции активации логистический сигмоид 𝑓(𝑛𝑒𝑡) = 1/ (1+exp(-net))\n",
        "\n",
        "# Комментарий: Обратное распространение ошибки реализовано автоматически при вызове метода fit()\n",
        "\n",
        "# Вариант 8\n",
        "# Архитектура 3-3-2\n",
        "# Скорость обучения 0.25\n",
        "\n",
        "# Входной вектор X={0.4;-0.8;0.2}\n",
        "# Комментарий: Не может быть использован, так как входные данные преобразуются в вектор с признаками равным количеству 28*28 при использовании mnist\n",
        "\n",
        "# Матрицы синапсов 1 и 2 слоя:\n",
        "# Начальные значения весов для первого слоя взять произвольным образом из интервала [-0.3 0.3]\n",
        "# Комментарий: Данные веса будут применены ко всем слоям\n",
        "# W2={0.4 -0.7; 1.2 0.6; 0.1 0.5; -1.4 0.5}\n",
        "# Комментарий: Не могут быть использованы, так как слоя из 4 нейронов в заданных архитектурах нет\n",
        "\n",
        "# Эталонный выход Y={0.5;0.3}\n",
        "# Комментарий: Не может быть использован, так как решается задача классификации с 10 классами\n"
      ],
      "metadata": {
        "id": "-IedJTZfJlz6"
      },
      "execution_count": null,
      "outputs": []
    },
    {
      "cell_type": "code",
      "source": [
        "from tensorflow.keras import optimizers\n",
        "\n",
        "# Инициализируем веса для каждого слоя\n",
        "first_weights = np.random.uniform(-0.3, 0.3, (28*28, 50))\n",
        "weights_50_50 = np.random.uniform(-0.3, 0.3, (50, 50))\n",
        "weights_50_10 = np.random.uniform(-0.3, 0.3, (50, 10))\n",
        "weights_10_50 = np.random.uniform(-0.3, 0.3, (10, 50))\n",
        "\n",
        "# Опишем архитектуру новой сети\n",
        "model__new = Sequential()\n",
        "model__new.add(Dense(50, kernel_initializer = first_weights, input_dim=28*28, activation='sigmoid'))\n",
        "model__new.add(Dense(50, kernel_initializer = weights_50_50, activation='sigmoid'))\n",
        "model__new.add(Dense(10, kernel_initializer = weights_50_10, activation='sigmoid'))\n",
        "\n",
        "model__new.add(Dense(50, kernel_initializer = weights_10_50, activation='sigmoid'))\n",
        "model__new.add(Dense(50, kernel_initializer = weights_50_50, activation='sigmoid'))\n",
        "model__new.add(Dense(10, kernel_initializer = weights_50_10, activation='sigmoid'))\n",
        "\n",
        "model__new.add(Dense(50, kernel_initializer = weights_10_50, activation='sigmoid'))\n",
        "model__new.add(Dense(50, kernel_initializer = weights_50_50, activation='sigmoid'))\n",
        "model__new.add(Dense(10, kernel_initializer = weights_50_10, activation='sigmoid'))\n",
        "\n",
        "model__new.compile(loss='categorical_crossentropy', optimizer=optimizers.Adam(learning_rate=0.25), metrics=['accuracy'])\n",
        "model__new.fit(x_train, y_train, epochs=10, validation_split=0.1)\n",
        "\n",
        "_, test_acc = model__new.evaluate(x_test, y_test)\n",
        "print(test_acc)"
      ],
      "metadata": {
        "colab": {
          "base_uri": "https://localhost:8080/"
        },
        "id": "X73LQru_J1Y7",
        "outputId": "4867770e-6e3b-49ff-a500-f8e53fd9ed6d"
      },
      "execution_count": 48,
      "outputs": [
        {
          "output_type": "stream",
          "name": "stdout",
          "text": [
            "Epoch 1/10\n",
            "\u001b[1m1688/1688\u001b[0m \u001b[32m━━━━━━━━━━━━━━━━━━━━\u001b[0m\u001b[37m\u001b[0m \u001b[1m9s\u001b[0m 4ms/step - accuracy: 0.1031 - loss: 2.8561 - val_accuracy: 0.0978 - val_loss: 2.4569\n",
            "Epoch 2/10\n",
            "\u001b[1m1688/1688\u001b[0m \u001b[32m━━━━━━━━━━━━━━━━━━━━\u001b[0m\u001b[37m\u001b[0m \u001b[1m6s\u001b[0m 3ms/step - accuracy: 0.1016 - loss: 2.7534 - val_accuracy: 0.0995 - val_loss: 2.6351\n",
            "Epoch 3/10\n",
            "\u001b[1m1688/1688\u001b[0m \u001b[32m━━━━━━━━━━━━━━━━━━━━\u001b[0m\u001b[37m\u001b[0m \u001b[1m10s\u001b[0m 3ms/step - accuracy: 0.1021 - loss: 2.7623 - val_accuracy: 0.0952 - val_loss: 3.1621\n",
            "Epoch 4/10\n",
            "\u001b[1m1688/1688\u001b[0m \u001b[32m━━━━━━━━━━━━━━━━━━━━\u001b[0m\u001b[37m\u001b[0m \u001b[1m6s\u001b[0m 4ms/step - accuracy: 0.0998 - loss: 2.7908 - val_accuracy: 0.0995 - val_loss: 2.6417\n",
            "Epoch 5/10\n",
            "\u001b[1m1688/1688\u001b[0m \u001b[32m━━━━━━━━━━━━━━━━━━━━\u001b[0m\u001b[37m\u001b[0m \u001b[1m6s\u001b[0m 3ms/step - accuracy: 0.0992 - loss: 2.7868 - val_accuracy: 0.1113 - val_loss: 2.9145\n",
            "Epoch 6/10\n",
            "\u001b[1m1688/1688\u001b[0m \u001b[32m━━━━━━━━━━━━━━━━━━━━\u001b[0m\u001b[37m\u001b[0m \u001b[1m11s\u001b[0m 4ms/step - accuracy: 0.1018 - loss: 2.7496 - val_accuracy: 0.0915 - val_loss: 2.9148\n",
            "Epoch 7/10\n",
            "\u001b[1m1688/1688\u001b[0m \u001b[32m━━━━━━━━━━━━━━━━━━━━\u001b[0m\u001b[37m\u001b[0m \u001b[1m10s\u001b[0m 3ms/step - accuracy: 0.1019 - loss: 2.7675 - val_accuracy: 0.0915 - val_loss: 2.6369\n",
            "Epoch 8/10\n",
            "\u001b[1m1688/1688\u001b[0m \u001b[32m━━━━━━━━━━━━━━━━━━━━\u001b[0m\u001b[37m\u001b[0m \u001b[1m10s\u001b[0m 3ms/step - accuracy: 0.1013 - loss: 2.7793 - val_accuracy: 0.0995 - val_loss: 2.6259\n",
            "Epoch 9/10\n",
            "\u001b[1m1688/1688\u001b[0m \u001b[32m━━━━━━━━━━━━━━━━━━━━\u001b[0m\u001b[37m\u001b[0m \u001b[1m10s\u001b[0m 3ms/step - accuracy: 0.1012 - loss: 2.7771 - val_accuracy: 0.1045 - val_loss: 2.5842\n",
            "Epoch 10/10\n",
            "\u001b[1m1688/1688\u001b[0m \u001b[32m━━━━━━━━━━━━━━━━━━━━\u001b[0m\u001b[37m\u001b[0m \u001b[1m7s\u001b[0m 4ms/step - accuracy: 0.0998 - loss: 2.8004 - val_accuracy: 0.0992 - val_loss: 3.0247\n",
            "\u001b[1m313/313\u001b[0m \u001b[32m━━━━━━━━━━━━━━━━━━━━\u001b[0m\u001b[37m\u001b[0m \u001b[1m1s\u001b[0m 2ms/step - accuracy: 0.1044 - loss: 2.9971\n",
            "0.0982000008225441\n"
          ]
        }
      ]
    },
    {
      "cell_type": "code",
      "source": [
        "# Точность модели крайне мала на 10 эпохах, возможные причины этого:\n",
        "# - неудачная архитектура сети (50-50-10...)\n",
        "# - слишком большое значение скорости обучения\n",
        "# - неподходящая функция активации"
      ],
      "metadata": {
        "id": "AcFWxn8lq-rf"
      },
      "execution_count": 49,
      "outputs": []
    }
  ]
}